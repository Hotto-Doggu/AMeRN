{
  "nbformat": 4,
  "nbformat_minor": 0,
  "metadata": {
    "accelerator": "GPU",
    "colab": {
      "provenance": []
    },
    "kernelspec": {
      "display_name": "Python 3",
      "name": "python3"
    }
  },
  "cells": [
    {
      "cell_type": "markdown",
      "metadata": {
        "id": "Ndo4ERqnwQOU"
      },
      "source": [
        "# Lab 9 - PCC177/BCC406\n",
        "\n",
        "## REDES NEURAIS E APRENDIZAGEM EM PROFUNDIDADE\n",
        "\n",
        "## NLP\n",
        "\n",
        "### Prof. Eduardo e Prof. Pedro\n",
        "\n",
        "Objetivos:\n",
        "\n",
        "- Implementar técncias de PLN para resolver um problema de classificação de texto tóxico em portugues.\n",
        "\n",
        "Data da entrega : Fim do período\n",
        "\n",
        "- Complete o código (marcado com ToDo) e quando requisitado, escreva textos diretamente nos notebooks. Onde tiver *None*, substitua pelo seu código.\n",
        "- Execute todo notebook e salve tudo em um PDF **nomeado** como \"NomeSobrenome-Lab.pdf\"\n",
        "- Envie o PDF via google [FORM](https://forms.gle/NeH2WCaqVG4n8iz88)\n",
        "\n",
        "Este notebook é baseado em tensorflow e Keras.\n"
      ]
    },
    {
      "cell_type": "markdown",
      "metadata": {
        "id": "xfNT-mlFwxVM"
      },
      "source": [
        "# Importando bibliotecas e preparando o ambiente"
      ]
    },
    {
      "cell_type": "markdown",
      "source": [
        "Importando as bibliotecas"
      ],
      "metadata": {
        "id": "zZUs8DmSrYcH"
      }
    },
    {
      "cell_type": "code",
      "metadata": {
        "id": "YfIk2es3hJEd"
      },
      "source": [
        "import matplotlib.pyplot as plt\n",
        "import numpy as np\n",
        "import pandas as pd\n",
        "import seaborn as sns\n",
        "import tensorflow as tf\n",
        "\n",
        "from sklearn.model_selection import train_test_split\n",
        "from sklearn.preprocessing import LabelEncoder\n",
        "from sklearn.metrics import classification_report, confusion_matrix\n",
        "from tensorflow.keras.preprocessing.text import Tokenizer\n",
        "from tensorflow.keras.preprocessing.sequence import pad_sequences\n",
        "from tensorflow.keras.models import Sequential\n",
        "from tensorflow.keras.layers import Dense, Embedding, Flatten"
      ],
      "execution_count": 1,
      "outputs": []
    },
    {
      "cell_type": "markdown",
      "source": [
        "Montando o seu drive no colab."
      ],
      "metadata": {
        "id": "6zvESPbCrL1w"
      }
    },
    {
      "cell_type": "code",
      "source": [
        "from google.colab import drive\n",
        "drive.mount('/content/drive')"
      ],
      "metadata": {
        "id": "K9s_SDZPrQpi",
        "colab": {
          "base_uri": "https://localhost:8080/"
        },
        "outputId": "9bef543b-b086-4f58-eb0f-7f5f4de0b6fd"
      },
      "execution_count": 2,
      "outputs": [
        {
          "output_type": "stream",
          "name": "stdout",
          "text": [
            "Mounted at /content/drive\n"
          ]
        }
      ]
    },
    {
      "cell_type": "markdown",
      "source": [
        " Vamos carregar a base de dados \"*Brazilian Portuguese Hatespeech dataset*\". Para detalhes sobre o dataset e o problema em si, veja o [link do Kaggle](https://www.kaggle.com/datasets/hrmello/brazilian-portuguese-hatespeech-dataset/)."
      ],
      "metadata": {
        "id": "eaWCYHH-rUMD"
      }
    },
    {
      "cell_type": "code",
      "source": [
        "# Ler o arquivo CSV hate_speech_binary_classification_train.csv dentro da pasta de dataset do drive compartilhado.\n",
        "# Substitua o 'caminho_do_arquivo_treino.csv' pelo caminho real do seu arquivo CSV\n",
        "dados = pd.read_csv('/content/drive/MyDrive/datasets/hate_speech_binary_classification_train.csv')\n",
        "\n",
        "# Ler o arquivo CSV hate_speech_binary_classification_test.csv dentro da pasta de dataset do drive compartilhado.\n",
        "# Substitua o 'caminho_do_arquivo_teste.csv' pelo caminho real do seu arquivo CSV\n",
        "dados_teste = pd.read_csv('/content/drive/MyDrive/datasets/hate_speech_binary_classification_test.csv')"
      ],
      "metadata": {
        "id": "3d20Co5zrbjT"
      },
      "execution_count": 3,
      "outputs": []
    },
    {
      "cell_type": "markdown",
      "source": [
        "Mostrar as primeiras linhas do DataFrame"
      ],
      "metadata": {
        "id": "glzRZT3brgmT"
      }
    },
    {
      "cell_type": "code",
      "source": [
        "print(dados.head())"
      ],
      "metadata": {
        "id": "BWpYShMqrkEL",
        "colab": {
          "base_uri": "https://localhost:8080/"
        },
        "outputId": "873f1b96-ca7b-40bf-b3c0-241cb8d72106"
      },
      "execution_count": 4,
      "outputs": [
        {
          "output_type": "stream",
          "name": "stdout",
          "text": [
            "                                                text  \\\n",
            "0  -Odeio feministas só falam merda\\n-Vamos fazer...   \n",
            "1  CHEGOU DANDO CANTADA NO CARNAVAL:\\n#CarnavalSe...   \n",
            "2  Diferença entre 'manifestante' e 'terrorista'....   \n",
            "3  É legal pra um presidente 'grampear' uma corri...   \n",
            "4  não há como negar a biologia....por mais que a...   \n",
            "\n",
            "                                             protext  class  \n",
            "0  -Odeio feministas só falam merda -Vamos fazer ...      1  \n",
            "1  CHEGOU DANDO CANTADA NO CARNAVAL: #CarnavalSem...      0  \n",
            "2  Diferença entre 'manifestante' e 'terrorista'....      1  \n",
            "3  É legal pra um presidente 'grampear' uma corri...      0  \n",
            "4  não há como negar a biologia....por mais que a...      0  \n"
          ]
        }
      ]
    },
    {
      "cell_type": "markdown",
      "source": [
        "## Pré-processando os dados"
      ],
      "metadata": {
        "id": "639c8YccrspA"
      }
    },
    {
      "cell_type": "markdown",
      "source": [
        "Selecionando colunas específicas"
      ],
      "metadata": {
        "id": "e9sVVCqcry7S"
      }
    },
    {
      "cell_type": "code",
      "source": [
        "dados_brutos = dados.iloc[:, 0]\n",
        "X = dados.iloc[:, 1] # Coluna dos dados pré-processados\n",
        "y = dados.iloc[:, 2] # Coluna dos rótulos\n",
        "\n",
        "X_test = dados_teste.iloc[:, 1]  # Coluna dos dados pré-processados\n",
        "y_test = dados_teste.iloc[:, 2]  # Coluna dos rótulos"
      ],
      "metadata": {
        "id": "hy9ItDlTr3t2"
      },
      "execution_count": 5,
      "outputs": []
    },
    {
      "cell_type": "markdown",
      "source": [
        "Mostrar as primeiras linhas de cada coluna"
      ],
      "metadata": {
        "id": "25ZLJbuer5-p"
      }
    },
    {
      "cell_type": "code",
      "source": [
        "print(\"Dados brutos:\")\n",
        "print(dados_brutos.head())\n",
        "print(\"\\nRótulos:\")\n",
        "print(y.head())\n",
        "print(\"\\nDados preprocessados:\")\n",
        "print(X.head())"
      ],
      "metadata": {
        "id": "kXN3tjeFsBJJ",
        "colab": {
          "base_uri": "https://localhost:8080/"
        },
        "outputId": "1ce5f8c5-09b5-481b-cc95-0c0bc8c2620e"
      },
      "execution_count": 6,
      "outputs": [
        {
          "output_type": "stream",
          "name": "stdout",
          "text": [
            "Dados brutos:\n",
            "0    -Odeio feministas só falam merda\\n-Vamos fazer...\n",
            "1    CHEGOU DANDO CANTADA NO CARNAVAL:\\n#CarnavalSe...\n",
            "2    Diferença entre 'manifestante' e 'terrorista'....\n",
            "3    É legal pra um presidente 'grampear' uma corri...\n",
            "4    não há como negar a biologia....por mais que a...\n",
            "Name: text, dtype: object\n",
            "\n",
            "Rótulos:\n",
            "0    1\n",
            "1    0\n",
            "2    1\n",
            "3    0\n",
            "4    0\n",
            "Name: class, dtype: int64\n",
            "\n",
            "Dados preprocessados:\n",
            "0    -Odeio feministas só falam merda -Vamos fazer ...\n",
            "1    CHEGOU DANDO CANTADA NO CARNAVAL: #CarnavalSem...\n",
            "2    Diferença entre 'manifestante' e 'terrorista'....\n",
            "3    É legal pra um presidente 'grampear' uma corri...\n",
            "4    não há como negar a biologia....por mais que a...\n",
            "Name: protext, dtype: object\n"
          ]
        }
      ]
    },
    {
      "cell_type": "markdown",
      "source": [
        "# Uma implementação ingênua para o problema"
      ],
      "metadata": {
        "id": "l-38NPXysQsK"
      }
    },
    {
      "cell_type": "markdown",
      "source": [
        "Abaixo uma implementação ingênua para o problema. Ela é ingênua por que desconsidera a ordem das palavras no texto.\n",
        "Tente endendê-la e execute o treinamento."
      ],
      "metadata": {
        "id": "Q8so71t8sXt5"
      }
    },
    {
      "cell_type": "markdown",
      "source": [
        "### Pré-processamento"
      ],
      "metadata": {
        "id": "S8YLG1rtu5eH"
      }
    },
    {
      "cell_type": "markdown",
      "source": [
        "Primeira coisa é fixar as sementes para garantir a reproducibilidade dos resultados"
      ],
      "metadata": {
        "id": "7Yb9t_e3u5Cx"
      }
    },
    {
      "cell_type": "code",
      "source": [
        "np.random.seed(94)\n",
        "tf.random.set_seed(94)"
      ],
      "metadata": {
        "id": "qNqAjIllsbaR"
      },
      "execution_count": 7,
      "outputs": []
    },
    {
      "cell_type": "markdown",
      "source": [
        "Codificação dos rótulos para 0 e 1"
      ],
      "metadata": {
        "id": "S2HgX714siRi"
      }
    },
    {
      "cell_type": "code",
      "source": [
        "encoder = LabelEncoder()\n",
        "y = encoder.fit_transform(y)\n",
        "y_test = encoder.transform(y_test)"
      ],
      "metadata": {
        "id": "t6-1CCbzs4O3"
      },
      "execution_count": 8,
      "outputs": []
    },
    {
      "cell_type": "markdown",
      "source": [
        "Tokenização e sequenciamento dos textos"
      ],
      "metadata": {
        "id": "7SBhO2mhs6OT"
      }
    },
    {
      "cell_type": "code",
      "source": [
        "max_length = 280  # Define o tamanho máximo das sequências\n",
        "vocab_size = 100000  # Define o tamanho do vocabulário\n",
        "\n",
        "tokenizer = Tokenizer(num_words=vocab_size, oov_token='<OOV>')\n",
        "tokenizer.fit_on_texts(X)\n",
        "# Tokenização e sequenciamento dos textos de treino\n",
        "sequences = tokenizer.texts_to_sequences(X)\n",
        "padded_sequences = pad_sequences(sequences, maxlen=max_length, padding='post', truncating='post')\n",
        "\n",
        "# Tokenização e sequenciamento dos textos de teste\n",
        "sequences_test = tokenizer.texts_to_sequences(X_test)\n",
        "padded_sequences_test = pad_sequences(sequences_test, maxlen=max_length, padding='post', truncating='post')"
      ],
      "metadata": {
        "id": "PFx2hGpbs8Vt"
      },
      "execution_count": 9,
      "outputs": []
    },
    {
      "cell_type": "markdown",
      "source": [
        "Divisão dos dados em conjuntos de treino e validação"
      ],
      "metadata": {
        "id": "bnfGLF3qs_y4"
      }
    },
    {
      "cell_type": "code",
      "source": [
        "X_train, X_val, y_train, y_val = train_test_split(padded_sequences, y, test_size=0.2, random_state=42)"
      ],
      "metadata": {
        "id": "PPR9biautG0k"
      },
      "execution_count": 10,
      "outputs": []
    },
    {
      "cell_type": "markdown",
      "source": [
        "### Definição e treinamento do modelo"
      ],
      "metadata": {
        "id": "JRMzGa_9u9mu"
      }
    },
    {
      "cell_type": "markdown",
      "source": [
        "Definição do modelo"
      ],
      "metadata": {
        "id": "OjPXGGhMtJRD"
      }
    },
    {
      "cell_type": "code",
      "source": [
        "embedding_dim = 16\n",
        "\n",
        "model = Sequential([\n",
        "    Embedding(vocab_size, embedding_dim, input_length=max_length),\n",
        "    Flatten(),\n",
        "    Dense(32, activation='relu'),\n",
        "    Dense(1, activation='sigmoid')\n",
        "])"
      ],
      "metadata": {
        "id": "3V8DAWEUtLVV"
      },
      "execution_count": 11,
      "outputs": []
    },
    {
      "cell_type": "markdown",
      "source": [
        "Compilação do modelo"
      ],
      "metadata": {
        "id": "0aiJRGbStR4i"
      }
    },
    {
      "cell_type": "code",
      "source": [
        "model.compile(loss='binary_crossentropy', optimizer='adam', metrics=['accuracy'])"
      ],
      "metadata": {
        "id": "3nxvlabjtPvz"
      },
      "execution_count": 12,
      "outputs": []
    },
    {
      "cell_type": "markdown",
      "source": [
        "Visualizando os dados"
      ],
      "metadata": {
        "id": "fhmIGfwTtUho"
      }
    },
    {
      "cell_type": "code",
      "source": [
        "model.summary()"
      ],
      "metadata": {
        "id": "KsQpwtwQtV8H",
        "colab": {
          "base_uri": "https://localhost:8080/"
        },
        "outputId": "37e0cbfa-aafb-4c48-d652-6583710b4076"
      },
      "execution_count": 13,
      "outputs": [
        {
          "output_type": "stream",
          "name": "stdout",
          "text": [
            "Model: \"sequential\"\n",
            "_________________________________________________________________\n",
            " Layer (type)                Output Shape              Param #   \n",
            "=================================================================\n",
            " embedding (Embedding)       (None, 280, 16)           1600000   \n",
            "                                                                 \n",
            " flatten (Flatten)           (None, 4480)              0         \n",
            "                                                                 \n",
            " dense (Dense)               (None, 32)                143392    \n",
            "                                                                 \n",
            " dense_1 (Dense)             (None, 1)                 33        \n",
            "                                                                 \n",
            "=================================================================\n",
            "Total params: 1743425 (6.65 MB)\n",
            "Trainable params: 1743425 (6.65 MB)\n",
            "Non-trainable params: 0 (0.00 Byte)\n",
            "_________________________________________________________________\n"
          ]
        }
      ]
    },
    {
      "cell_type": "markdown",
      "source": [
        "Treinamento do modelo"
      ],
      "metadata": {
        "id": "_MinHHH9tYqw"
      }
    },
    {
      "cell_type": "code",
      "source": [
        "epochs = 5\n",
        "history = model.fit(X_train, y_train, epochs=epochs, validation_data=(X_val, y_val), verbose=2)"
      ],
      "metadata": {
        "id": "FqpBMmIvtZLC",
        "colab": {
          "base_uri": "https://localhost:8080/"
        },
        "outputId": "ba6b2dda-aae9-45ad-b37f-7c83eccce9c6"
      },
      "execution_count": 14,
      "outputs": [
        {
          "output_type": "stream",
          "name": "stdout",
          "text": [
            "Epoch 1/5\n",
            "72/72 - 11s - loss: 0.6944 - accuracy: 0.4965 - val_loss: 0.6931 - val_accuracy: 0.5035 - 11s/epoch - 150ms/step\n",
            "Epoch 2/5\n",
            "72/72 - 4s - loss: 0.6932 - accuracy: 0.4904 - val_loss: 0.6931 - val_accuracy: 0.5035 - 4s/epoch - 58ms/step\n",
            "Epoch 3/5\n",
            "72/72 - 3s - loss: 0.6932 - accuracy: 0.4869 - val_loss: 0.6932 - val_accuracy: 0.4965 - 3s/epoch - 36ms/step\n",
            "Epoch 4/5\n",
            "72/72 - 1s - loss: 0.6932 - accuracy: 0.4930 - val_loss: 0.6931 - val_accuracy: 0.5035 - 1s/epoch - 17ms/step\n",
            "Epoch 5/5\n",
            "72/72 - 1s - loss: 0.6932 - accuracy: 0.4913 - val_loss: 0.6931 - val_accuracy: 0.4965 - 1s/epoch - 16ms/step\n"
          ]
        }
      ]
    },
    {
      "cell_type": "markdown",
      "source": [
        "Plotando as curvas de loss"
      ],
      "metadata": {
        "id": "DQ8pN0mhva0-"
      }
    },
    {
      "cell_type": "code",
      "source": [
        "plt.figure(figsize=(8, 6))\n",
        "plt.plot(history.history['loss'], label='Training Loss')\n",
        "plt.plot(history.history['val_loss'], label='Validation Loss')\n",
        "plt.title('Training and Validation Losses')\n",
        "plt.xlabel('Epoch')\n",
        "plt.ylabel('Loss')\n",
        "plt.legend()\n",
        "plt.show()"
      ],
      "metadata": {
        "id": "cD12G6HjvcWW",
        "colab": {
          "base_uri": "https://localhost:8080/",
          "height": 564
        },
        "outputId": "4f5f3464-03f0-46ec-9ac5-a86e45320384"
      },
      "execution_count": 15,
      "outputs": [
        {
          "output_type": "display_data",
          "data": {
            "text/plain": [
              "<Figure size 800x600 with 1 Axes>"
            ],
            "image/png": "[encoded data removed]"
          },
          "metadata": {}
        }
      ]
    },
    {
      "cell_type": "markdown",
      "source": [
        "### Avaliação do modelo"
      ],
      "metadata": {
        "id": "j8al_ZDwvCkM"
      }
    },
    {
      "cell_type": "markdown",
      "source": [
        "Avaliar o modelo nos dados de teste\n"
      ],
      "metadata": {
        "id": "haXW7dZktdME"
      }
    },
    {
      "cell_type": "code",
      "source": [
        "# Fazendo previsões no conjunto de teste\n",
        "y_pred_prob = model.predict(padded_sequences_test)\n",
        "y_pred = (y_pred_prob > 0.5).astype(int)\n",
        "\n",
        "loss, accuracy = model.evaluate(padded_sequences_test, y_test, verbose=2)\n",
        "print(f\"Perda nos dados de teste: {loss:.4f}\")\n",
        "print(f\"Acurácia nos dados de teste: {accuracy:.4f}\")"
      ],
      "metadata": {
        "id": "DKw6QWw5tg3q",
        "colab": {
          "base_uri": "https://localhost:8080/"
        },
        "outputId": "365afd63-2044-4d0b-f979-c4a655e64139"
      },
      "execution_count": 16,
      "outputs": [
        {
          "output_type": "stream",
          "name": "stdout",
          "text": [
            "23/23 [==============================] - 0s 1ms/step\n",
            "23/23 - 0s - loss: 0.6931 - accuracy: 0.5000 - 54ms/epoch - 2ms/step\n",
            "Perda nos dados de teste: 0.6931\n",
            "Acurácia nos dados de teste: 0.5000\n"
          ]
        }
      ]
    },
    {
      "cell_type": "markdown",
      "source": [
        "Gerando o relatório de classificação"
      ],
      "metadata": {
        "id": "e-WZ9n8RvG-h"
      }
    },
    {
      "cell_type": "code",
      "source": [
        "report = classification_report(y_test, y_pred, target_names=encoder.classes_, output_dict=True)"
      ],
      "metadata": {
        "id": "tFY1TQbcvIJc",
        "colab": {
          "base_uri": "https://localhost:8080/"
        },
        "outputId": "615a5a9d-3c42-4364-9d13-53f67e4ec17e"
      },
      "execution_count": 17,
      "outputs": [
        {
          "output_type": "stream",
          "name": "stderr",
          "text": [
            "/usr/local/lib/python3.10/dist-packages/sklearn/metrics/_classification.py:1344: UndefinedMetricWarning: Precision and F-score are ill-defined and being set to 0.0 in labels with no predicted samples. Use `zero_division` parameter to control this behavior.\n",
            "  _warn_prf(average, modifier, msg_start, len(result))\n",
            "/usr/local/lib/python3.10/dist-packages/sklearn/metrics/_classification.py:1344: UndefinedMetricWarning: Precision and F-score are ill-defined and being set to 0.0 in labels with no predicted samples. Use `zero_division` parameter to control this behavior.\n",
            "  _warn_prf(average, modifier, msg_start, len(result))\n",
            "/usr/local/lib/python3.10/dist-packages/sklearn/metrics/_classification.py:1344: UndefinedMetricWarning: Precision and F-score are ill-defined and being set to 0.0 in labels with no predicted samples. Use `zero_division` parameter to control this behavior.\n",
            "  _warn_prf(average, modifier, msg_start, len(result))\n"
          ]
        }
      ]
    },
    {
      "cell_type": "markdown",
      "source": [
        "Plotando os resultados"
      ],
      "metadata": {
        "id": "HIBB9D-GvUS7"
      }
    },
    {
      "cell_type": "code",
      "source": [
        "print(\"Classificação Report:\")\n",
        "for label, metrics in report.items():\n",
        "    if label == 'accuracy':\n",
        "        continue\n",
        "    print(f\"Class: {label}\")\n",
        "    print(f\"\\tPrecision: {metrics['precision']}\")\n",
        "    print(f\"\\tRecall: {metrics['recall']}\")\n",
        "    print(f\"\\tF1-score: {metrics['f1-score']}\")\n",
        "print(f\"Macro Avg: {report['macro avg']}\")\n",
        "print(f\"Weighted Avg: {report['weighted avg']}\")"
      ],
      "metadata": {
        "id": "qvQsctddvVnT",
        "colab": {
          "base_uri": "https://localhost:8080/"
        },
        "outputId": "eaa78653-12c2-40da-a7fb-c55ea42812aa"
      },
      "execution_count": 18,
      "outputs": [
        {
          "output_type": "stream",
          "name": "stdout",
          "text": [
            "Classificação Report:\n",
            "Class: 0\n",
            "\tPrecision: 0.0\n",
            "\tRecall: 0.0\n",
            "\tF1-score: 0.0\n",
            "Class: 1\n",
            "\tPrecision: 0.5\n",
            "\tRecall: 1.0\n",
            "\tF1-score: 0.6666666666666666\n",
            "Class: macro avg\n",
            "\tPrecision: 0.25\n",
            "\tRecall: 0.5\n",
            "\tF1-score: 0.3333333333333333\n",
            "Class: weighted avg\n",
            "\tPrecision: 0.25\n",
            "\tRecall: 0.5\n",
            "\tF1-score: 0.3333333333333333\n",
            "Macro Avg: {'precision': 0.25, 'recall': 0.5, 'f1-score': 0.3333333333333333, 'support': 716}\n",
            "Weighted Avg: {'precision': 0.25, 'recall': 0.5, 'f1-score': 0.3333333333333333, 'support': 716}\n"
          ]
        }
      ]
    },
    {
      "cell_type": "markdown",
      "source": [
        "Plotando a matriz de confusão"
      ],
      "metadata": {
        "id": "0cT3RoBivXcg"
      }
    },
    {
      "cell_type": "code",
      "source": [
        "cm = confusion_matrix(y_test, y_pred)\n",
        "plt.figure(figsize=(6, 6))\n",
        "sns.heatmap(cm, annot=True, fmt='d', cmap='Blues')\n",
        "plt.xlabel('Predicted')\n",
        "plt.ylabel('Actual')\n",
        "plt.title('Confusion Matrix')\n",
        "plt.show()"
      ],
      "metadata": {
        "id": "2H6rW_sjvZdx",
        "colab": {
          "base_uri": "https://localhost:8080/",
          "height": 564
        },
        "outputId": "ba040637-d3c6-480e-a8e4-03d8d49818bc"
      },
      "execution_count": 19,
      "outputs": [
        {
          "output_type": "display_data",
          "data": {
            "text/plain": [
              "<Figure size 600x600 with 2 Axes>"
            ],
            "image/png": "[encoded data removed]"
          },
          "metadata": {}
        }
      ]
    },
    {
      "cell_type": "markdown",
      "source": [
        "Previsões do modelo"
      ],
      "metadata": {
        "id": "fGy3G0bouztD"
      }
    },
    {
      "cell_type": "code",
      "source": [
        "y_pred = (model.predict(padded_sequences_test) > 0.5).astype(\"int32\")"
      ],
      "metadata": {
        "id": "Z7Jh_pbItglh",
        "colab": {
          "base_uri": "https://localhost:8080/"
        },
        "outputId": "6f7bcab7-f41b-4ecb-c1fd-91061acaed7c"
      },
      "execution_count": 20,
      "outputs": [
        {
          "output_type": "stream",
          "name": "stdout",
          "text": [
            "23/23 [==============================] - 0s 2ms/step\n"
          ]
        }
      ]
    },
    {
      "cell_type": "markdown",
      "source": [
        "### *ToDo*: O que você pode analisar dos resultados acima?"
      ],
      "metadata": {
        "id": "kfOaQTjnvqUm"
      }
    },
    {
      "cell_type": "markdown",
      "source": [
        "```\n",
        "O conjunto de dados apresenta um desbalanceamento significativo entre as classes, com a classe 1 (Tóxico) sendo mais predominante, evidenciado pela alta taxa de recall para essa classe (98.04%).\n",
        "\n",
        "Ao avaliar o desempenho diferencial entre as classes, observamos que a classe 0 (Não Tóxico) possui uma alta precisão (80%), indicando que o modelo geralmente acerta quando prevê que um texto é não tóxico.\n",
        "No entanto, o recall para a classe 0 é muito baixo (7.82%), sugerindo que o modelo está perdendo muitas instâncias não tóxicas, o que pode ser problemático, especialmente se a detecção de textos não tóxicos for prioritária.\n",
        "\n",
        "Para a classe 1 (Tóxico), a precisão é menor (51.54%), indicando que há uma chance menor de o modelo estar correto quando prevê que um texto é tóxico.\n",
        "No entanto, o recall para a classe 1 é alto (98.04%), indicando que o modelo está efetivamente identificando a maioria dos textos tóxicos.\n",
        "\n",
        "As médias macro e ponderada indicam que o desempenho médio do modelo é razoável, mas a ênfase nas métricas da classe majoritária pode mascarar questões importantes na detecção da classe minoritária.\n",
        "\n",
        "Ao analisar o F1-score, observamos que, enquanto a classe 1 (Tóxico) mostra um equilíbrio razoável entre precisão e recall (67.56%), a classe 0 (Não Tóxico) apresenta um desequilíbrio significativo, com um F1-score baixo (14.25%).\n",
        "```"
      ],
      "metadata": {
        "id": "k2jBmzuDvvLa"
      }
    },
    {
      "cell_type": "markdown",
      "source": [
        "# Faça o mesmo processamento utilizando GRU"
      ],
      "metadata": {
        "id": "F9c6RzO_v0Y3"
      }
    },
    {
      "cell_type": "markdown",
      "source": [
        "Pelo menos duas camadas de GRU"
      ],
      "metadata": {
        "id": "x9_1oATwtX6b"
      }
    },
    {
      "cell_type": "code",
      "source": [
        "from tensorflow.keras.layers import GRU\n",
        "\n",
        "# Definição do modelo com camadas GRU\n",
        "model_gru = Sequential([\n",
        "    Embedding(vocab_size, embedding_dim, input_length=max_length),\n",
        "    GRU(32, return_sequences=True),\n",
        "    GRU(32),\n",
        "    Dense(32, activation='relu'),\n",
        "    Dense(1, activation='sigmoid')\n",
        "])\n",
        "\n",
        "# Compilação do modelo\n",
        "model_gru.compile(loss='binary_crossentropy', optimizer='adam', metrics=['accuracy'])\n",
        "model_gru.summary()\n",
        "\n",
        "# Treinamento do modelo\n",
        "history_gru = model_gru.fit(X_train, y_train, epochs=5, validation_data=(X_val, y_val), verbose=2)\n",
        "\n",
        "# Avaliação do modelo nos dados de teste\n",
        "loss_gru, accuracy_gru = model_gru.evaluate(padded_sequences_test, y_test, verbose=2)\n",
        "print(f\"Perda nos dados de teste (GRU): {loss_gru:.4f}\")\n",
        "print(f\"Acurácia nos dados de teste (GRU): {accuracy_gru:.4f}\")\n",
        "\n",
        "# Fazendo previsões no conjunto de teste\n",
        "y_pred_gru = (model_gru.predict(padded_sequences_test) > 0.5).astype(int)\n",
        "\n",
        "# Gerando o relatório de classificação sem warnings\n",
        "report_gru = classification_report(y_test, y_pred_gru, target_names=encoder.classes_, output_dict=True)\n",
        "print(\"Relatório de Classificação (GRU):\")\n",
        "for label, metrics in report_gru.items():\n",
        "    if label == 'accuracy':\n",
        "        continue\n",
        "    print(f\"Classe: {label}\")\n",
        "    print(f\"\\tPrecisão: {metrics['precision']}\")\n",
        "    print(f\"\\tRecall: {metrics['recall']}\")\n",
        "    print(f\"\\tF1-score: {metrics['f1-score']}\")\n",
        "print(f\"Média Macro (GRU): {report_gru['macro avg']}\")\n",
        "print(f\"Média Ponderada (GRU): {report_gru['weighted avg']}\")\n"
      ],
      "metadata": {
        "id": "538Csc0xv5qo",
        "colab": {
          "base_uri": "https://localhost:8080/"
        },
        "outputId": "38aeffb6-8152-410c-f7af-9fddd2ad5e8e"
      },
      "execution_count": 21,
      "outputs": [
        {
          "output_type": "stream",
          "name": "stdout",
          "text": [
            "Model: \"sequential_1\"\n",
            "_________________________________________________________________\n",
            " Layer (type)                Output Shape              Param #   \n",
            "=================================================================\n",
            " embedding_1 (Embedding)     (None, 280, 16)           1600000   \n",
            "                                                                 \n",
            " gru (GRU)                   (None, 280, 32)           4800      \n",
            "                                                                 \n",
            " gru_1 (GRU)                 (None, 32)                6336      \n",
            "                                                                 \n",
            " dense_2 (Dense)             (None, 32)                1056      \n",
            "                                                                 \n",
            " dense_3 (Dense)             (None, 1)                 33        \n",
            "                                                                 \n",
            "=================================================================\n",
            "Total params: 1612225 (6.15 MB)\n",
            "Trainable params: 1612225 (6.15 MB)\n",
            "Non-trainable params: 0 (0.00 Byte)\n",
            "_________________________________________________________________\n",
            "Epoch 1/5\n",
            "72/72 - 11s - loss: 0.6935 - accuracy: 0.4991 - val_loss: 0.6931 - val_accuracy: 0.5035 - 11s/epoch - 159ms/step\n",
            "Epoch 2/5\n",
            "72/72 - 3s - loss: 0.6932 - accuracy: 0.4878 - val_loss: 0.6931 - val_accuracy: 0.4965 - 3s/epoch - 43ms/step\n",
            "Epoch 3/5\n",
            "72/72 - 3s - loss: 0.6932 - accuracy: 0.4860 - val_loss: 0.6932 - val_accuracy: 0.4965 - 3s/epoch - 44ms/step\n",
            "Epoch 4/5\n",
            "72/72 - 2s - loss: 0.6932 - accuracy: 0.4860 - val_loss: 0.6932 - val_accuracy: 0.4965 - 2s/epoch - 32ms/step\n",
            "Epoch 5/5\n",
            "72/72 - 2s - loss: 0.6932 - accuracy: 0.5009 - val_loss: 0.6932 - val_accuracy: 0.4965 - 2s/epoch - 26ms/step\n",
            "23/23 - 0s - loss: 0.6931 - accuracy: 0.5000 - 195ms/epoch - 8ms/step\n",
            "Perda nos dados de teste (GRU): 0.6931\n",
            "Acurácia nos dados de teste (GRU): 0.5000\n",
            "23/23 [==============================] - 1s 8ms/step\n",
            "Relatório de Classificação (GRU):\n",
            "Classe: 0\n",
            "\tPrecisão: 0.0\n",
            "\tRecall: 0.0\n",
            "\tF1-score: 0.0\n",
            "Classe: 1\n",
            "\tPrecisão: 0.5\n",
            "\tRecall: 1.0\n",
            "\tF1-score: 0.6666666666666666\n",
            "Classe: macro avg\n",
            "\tPrecisão: 0.25\n",
            "\tRecall: 0.5\n",
            "\tF1-score: 0.3333333333333333\n",
            "Classe: weighted avg\n",
            "\tPrecisão: 0.25\n",
            "\tRecall: 0.5\n",
            "\tF1-score: 0.3333333333333333\n",
            "Média Macro (GRU): {'precision': 0.25, 'recall': 0.5, 'f1-score': 0.3333333333333333, 'support': 716}\n",
            "Média Ponderada (GRU): {'precision': 0.25, 'recall': 0.5, 'f1-score': 0.3333333333333333, 'support': 716}\n"
          ]
        },
        {
          "output_type": "stream",
          "name": "stderr",
          "text": [
            "/usr/local/lib/python3.10/dist-packages/sklearn/metrics/_classification.py:1344: UndefinedMetricWarning: Precision and F-score are ill-defined and being set to 0.0 in labels with no predicted samples. Use `zero_division` parameter to control this behavior.\n",
            "  _warn_prf(average, modifier, msg_start, len(result))\n",
            "/usr/local/lib/python3.10/dist-packages/sklearn/metrics/_classification.py:1344: UndefinedMetricWarning: Precision and F-score are ill-defined and being set to 0.0 in labels with no predicted samples. Use `zero_division` parameter to control this behavior.\n",
            "  _warn_prf(average, modifier, msg_start, len(result))\n",
            "/usr/local/lib/python3.10/dist-packages/sklearn/metrics/_classification.py:1344: UndefinedMetricWarning: Precision and F-score are ill-defined and being set to 0.0 in labels with no predicted samples. Use `zero_division` parameter to control this behavior.\n",
            "  _warn_prf(average, modifier, msg_start, len(result))\n"
          ]
        }
      ]
    },
    {
      "cell_type": "markdown",
      "source": [
        "# Faça o mesmo processamento utilizando LSTM"
      ],
      "metadata": {
        "id": "o9U_kfeXv8k1"
      }
    },
    {
      "cell_type": "markdown",
      "source": [
        "Pelo menos duas camadas de LSTM"
      ],
      "metadata": {
        "id": "sbJ__bvTtaf7"
      }
    },
    {
      "cell_type": "code",
      "source": [
        "from tensorflow.keras.layers import LSTM\n",
        "\n",
        "# Definição do modelo com camadas LSTM\n",
        "model_lstm = Sequential([\n",
        "    Embedding(vocab_size, embedding_dim, input_length=max_length),\n",
        "    LSTM(32, return_sequences=True),\n",
        "    LSTM(32),\n",
        "    Dense(32, activation='relu'),\n",
        "    Dense(1, activation='sigmoid')\n",
        "])\n",
        "\n",
        "# Compilação do modelo\n",
        "model_lstm.compile(loss='binary_crossentropy', optimizer='adam', metrics=['accuracy'])\n",
        "model_lstm.summary()\n",
        "\n",
        "# Treinamento do modelo\n",
        "history_lstm = model_lstm.fit(X_train, y_train, epochs=5, validation_data=(X_val, y_val), verbose=2)\n",
        "\n",
        "# Avaliação do modelo nos dados de teste\n",
        "loss_lstm, accuracy_lstm = model_lstm.evaluate(padded_sequences_test, y_test, verbose=2)\n",
        "print(f\"Perda nos dados de teste (LSTM): {loss_lstm:.4f}\")\n",
        "print(f\"Acurácia nos dados de teste (LSTM): {accuracy_lstm:.4f}\")\n",
        "\n",
        "# Fazendo previsões no conjunto de teste\n",
        "y_pred_lstm = (model_lstm.predict(padded_sequences_test) > 0.5).astype(int)\n",
        "\n",
        "# Gerando o relatório de classificação\n",
        "report_lstm = classification_report(y_test, y_pred_lstm, target_names=encoder.classes_, output_dict=True)\n",
        "print(\"Relatório de Classificação (LSTM):\")\n",
        "for label, metrics in report_lstm.items():\n",
        "    if label == 'accuracy':\n",
        "        continue\n",
        "    print(f\"Classe: {label}\")\n",
        "    print(f\"\\tPrecisão: {metrics['precision']}\")\n",
        "    print(f\"\\tRecall: {metrics['recall']}\")\n",
        "    print(f\"\\tF1-score: {metrics['f1-score']}\")\n",
        "print(f\"Média Macro (LSTM): {report_lstm['macro avg']}\")\n",
        "print(f\"Média Ponderada (LSTM): {report_lstm['weighted avg']}\")\n"
      ],
      "metadata": {
        "id": "hUFVix7OwCfw",
        "colab": {
          "base_uri": "https://localhost:8080/"
        },
        "outputId": "9ceb8140-7ef2-4caf-9983-e0df8b825c56"
      },
      "execution_count": 22,
      "outputs": [
        {
          "output_type": "stream",
          "name": "stdout",
          "text": [
            "Model: \"sequential_2\"\n",
            "_________________________________________________________________\n",
            " Layer (type)                Output Shape              Param #   \n",
            "=================================================================\n",
            " embedding_2 (Embedding)     (None, 280, 16)           1600000   \n",
            "                                                                 \n",
            " lstm (LSTM)                 (None, 280, 32)           6272      \n",
            "                                                                 \n",
            " lstm_1 (LSTM)               (None, 32)                8320      \n",
            "                                                                 \n",
            " dense_4 (Dense)             (None, 32)                1056      \n",
            "                                                                 \n",
            " dense_5 (Dense)             (None, 1)                 33        \n",
            "                                                                 \n",
            "=================================================================\n",
            "Total params: 1615681 (6.16 MB)\n",
            "Trainable params: 1615681 (6.16 MB)\n",
            "Non-trainable params: 0 (0.00 Byte)\n",
            "_________________________________________________________________\n",
            "Epoch 1/5\n",
            "72/72 - 11s - loss: 0.6935 - accuracy: 0.4851 - val_loss: 0.6932 - val_accuracy: 0.4965 - 11s/epoch - 155ms/step\n",
            "Epoch 2/5\n",
            "72/72 - 4s - loss: 0.6934 - accuracy: 0.4921 - val_loss: 0.6931 - val_accuracy: 0.4965 - 4s/epoch - 51ms/step\n",
            "Epoch 3/5\n",
            "72/72 - 3s - loss: 0.6935 - accuracy: 0.4799 - val_loss: 0.6932 - val_accuracy: 0.4965 - 3s/epoch - 48ms/step\n",
            "Epoch 4/5\n",
            "72/72 - 3s - loss: 0.6936 - accuracy: 0.4991 - val_loss: 0.6932 - val_accuracy: 0.4965 - 3s/epoch - 40ms/step\n",
            "Epoch 5/5\n",
            "72/72 - 2s - loss: 0.6933 - accuracy: 0.4913 - val_loss: 0.6932 - val_accuracy: 0.4965 - 2s/epoch - 28ms/step\n",
            "23/23 - 0s - loss: 0.6931 - accuracy: 0.5000 - 204ms/epoch - 9ms/step\n",
            "Perda nos dados de teste (LSTM): 0.6931\n",
            "Acurácia nos dados de teste (LSTM): 0.5000\n",
            "23/23 [==============================] - 1s 9ms/step\n",
            "Relatório de Classificação (LSTM):\n",
            "Classe: 0\n",
            "\tPrecisão: 0.0\n",
            "\tRecall: 0.0\n",
            "\tF1-score: 0.0\n",
            "Classe: 1\n",
            "\tPrecisão: 0.5\n",
            "\tRecall: 1.0\n",
            "\tF1-score: 0.6666666666666666\n",
            "Classe: macro avg\n",
            "\tPrecisão: 0.25\n",
            "\tRecall: 0.5\n",
            "\tF1-score: 0.3333333333333333\n",
            "Classe: weighted avg\n",
            "\tPrecisão: 0.25\n",
            "\tRecall: 0.5\n",
            "\tF1-score: 0.3333333333333333\n",
            "Média Macro (LSTM): {'precision': 0.25, 'recall': 0.5, 'f1-score': 0.3333333333333333, 'support': 716}\n",
            "Média Ponderada (LSTM): {'precision': 0.25, 'recall': 0.5, 'f1-score': 0.3333333333333333, 'support': 716}\n"
          ]
        },
        {
          "output_type": "stream",
          "name": "stderr",
          "text": [
            "/usr/local/lib/python3.10/dist-packages/sklearn/metrics/_classification.py:1344: UndefinedMetricWarning: Precision and F-score are ill-defined and being set to 0.0 in labels with no predicted samples. Use `zero_division` parameter to control this behavior.\n",
            "  _warn_prf(average, modifier, msg_start, len(result))\n",
            "/usr/local/lib/python3.10/dist-packages/sklearn/metrics/_classification.py:1344: UndefinedMetricWarning: Precision and F-score are ill-defined and being set to 0.0 in labels with no predicted samples. Use `zero_division` parameter to control this behavior.\n",
            "  _warn_prf(average, modifier, msg_start, len(result))\n",
            "/usr/local/lib/python3.10/dist-packages/sklearn/metrics/_classification.py:1344: UndefinedMetricWarning: Precision and F-score are ill-defined and being set to 0.0 in labels with no predicted samples. Use `zero_division` parameter to control this behavior.\n",
            "  _warn_prf(average, modifier, msg_start, len(result))\n"
          ]
        }
      ]
    },
    {
      "cell_type": "markdown",
      "source": [
        "# Faça o mesmo processamento utilizando GRU Bi-direcionais"
      ],
      "metadata": {
        "id": "xfT37qLuwDH7"
      }
    },
    {
      "cell_type": "markdown",
      "source": [
        "Pelo menos duas camadas de GRU bi-direcionais"
      ],
      "metadata": {
        "id": "lX9C15tdtevz"
      }
    },
    {
      "cell_type": "code",
      "source": [
        "from tensorflow.keras.layers import Bidirectional\n",
        "\n",
        "# Definição do modelo com camadas GRU bidirecionais\n",
        "model_gru_bidirectional = Sequential([\n",
        "    Embedding(vocab_size, embedding_dim, input_length=max_length),\n",
        "    Bidirectional(GRU(32, return_sequences=True)),\n",
        "    Bidirectional(GRU(32)),\n",
        "    Dense(32, activation='relu'),\n",
        "    Dense(1, activation='sigmoid')\n",
        "])\n",
        "\n",
        "# Compilação do modelo\n",
        "model_gru_bidirectional.compile(loss='binary_crossentropy', optimizer='adam', metrics=['accuracy'])\n",
        "model_gru_bidirectional.summary()\n",
        "\n",
        "# Treinamento do modelo\n",
        "history_gru_bidirectional = model_gru_bidirectional.fit(X_train, y_train, epochs=5, validation_data=(X_val, y_val), verbose=2)\n",
        "\n",
        "# Avaliação do modelo nos dados de teste\n",
        "loss_gru_bidirectional, accuracy_gru_bidirectional = model_gru_bidirectional.evaluate(padded_sequences_test, y_test, verbose=2)\n",
        "print(f\"Perda nos dados de teste (GRU Bidirecional): {loss_gru_bidirectional:.4f}\")\n",
        "print(f\"Acurácia nos dados de teste (GRU Bidirecional): {accuracy_gru_bidirectional:.4f}\")\n",
        "\n",
        "# Fazendo previsões no conjunto de teste\n",
        "y_pred_gru_bidirectional = (model_gru_bidirectional.predict(padded_sequences_test) > 0.5).astype(int)\n",
        "\n",
        "# Gerando o relatório de classificação\n",
        "report_gru_bidirectional = classification_report(y_test, y_pred_gru_bidirectional, target_names=encoder.classes_, output_dict=True)\n",
        "print(\"Relatório de Classificação (GRU Bidirecional):\")\n",
        "for label, metrics in report_gru_bidirectional.items():\n",
        "    if label == 'accuracy':\n",
        "        continue\n",
        "    print(f\"Classe: {label}\")\n",
        "    print(f\"\\tPrecisão: {metrics['precision']}\")\n",
        "    print(f\"\\tRecall: {metrics['recall']}\")\n",
        "    print(f\"\\tF1-score: {metrics['f1-score']}\")\n",
        "print(f\"Média Macro (GRU Bidirecional): {report_gru_bidirectional['macro avg']}\")\n",
        "print(f\"Média Ponderada (GRU Bidirecional): {report_gru_bidirectional['weighted avg']}\")\n"
      ],
      "metadata": {
        "id": "QaGz7FpTwK7M",
        "colab": {
          "base_uri": "https://localhost:8080/"
        },
        "outputId": "d1838f57-12b8-4458-b557-3d7b534b48d3"
      },
      "execution_count": 23,
      "outputs": [
        {
          "output_type": "stream",
          "name": "stdout",
          "text": [
            "Model: \"sequential_3\"\n",
            "_________________________________________________________________\n",
            " Layer (type)                Output Shape              Param #   \n",
            "=================================================================\n",
            " embedding_3 (Embedding)     (None, 280, 16)           1600000   \n",
            "                                                                 \n",
            " bidirectional (Bidirection  (None, 280, 64)           9600      \n",
            " al)                                                             \n",
            "                                                                 \n",
            " bidirectional_1 (Bidirecti  (None, 64)                18816     \n",
            " onal)                                                           \n",
            "                                                                 \n",
            " dense_6 (Dense)             (None, 32)                2080      \n",
            "                                                                 \n",
            " dense_7 (Dense)             (None, 1)                 33        \n",
            "                                                                 \n",
            "=================================================================\n",
            "Total params: 1630529 (6.22 MB)\n",
            "Trainable params: 1630529 (6.22 MB)\n",
            "Non-trainable params: 0 (0.00 Byte)\n",
            "_________________________________________________________________\n",
            "Epoch 1/5\n",
            "72/72 - 16s - loss: 0.6920 - accuracy: 0.5210 - val_loss: 0.6861 - val_accuracy: 0.5175 - 16s/epoch - 221ms/step\n",
            "Epoch 2/5\n",
            "72/72 - 5s - loss: 0.5525 - accuracy: 0.7286 - val_loss: 0.6650 - val_accuracy: 0.6451 - 5s/epoch - 72ms/step\n",
            "Epoch 3/5\n",
            "72/72 - 4s - loss: 0.2551 - accuracy: 0.9056 - val_loss: 0.8255 - val_accuracy: 0.6573 - 4s/epoch - 55ms/step\n",
            "Epoch 4/5\n",
            "72/72 - 3s - loss: 0.0950 - accuracy: 0.9690 - val_loss: 1.1565 - val_accuracy: 0.6346 - 3s/epoch - 43ms/step\n",
            "Epoch 5/5\n",
            "72/72 - 3s - loss: 0.0377 - accuracy: 0.9891 - val_loss: 1.5600 - val_accuracy: 0.6364 - 3s/epoch - 46ms/step\n",
            "23/23 - 0s - loss: 1.5936 - accuracy: 0.6397 - 477ms/epoch - 21ms/step\n",
            "Perda nos dados de teste (GRU Bidirecional): 1.5936\n",
            "Acurácia nos dados de teste (GRU Bidirecional): 0.6397\n",
            "23/23 [==============================] - 2s 16ms/step\n",
            "Relatório de Classificação (GRU Bidirecional):\n",
            "Classe: 0\n",
            "\tPrecisão: 0.6388888888888888\n",
            "\tRecall: 0.6424581005586593\n",
            "\tF1-score: 0.6406685236768802\n",
            "Classe: 1\n",
            "\tPrecisão: 0.6404494382022472\n",
            "\tRecall: 0.6368715083798883\n",
            "\tF1-score: 0.638655462184874\n",
            "Classe: macro avg\n",
            "\tPrecisão: 0.639669163545568\n",
            "\tRecall: 0.6396648044692738\n",
            "\tF1-score: 0.6396619929308771\n",
            "Classe: weighted avg\n",
            "\tPrecisão: 0.639669163545568\n",
            "\tRecall: 0.6396648044692738\n",
            "\tF1-score: 0.6396619929308771\n",
            "Média Macro (GRU Bidirecional): {'precision': 0.639669163545568, 'recall': 0.6396648044692738, 'f1-score': 0.6396619929308771, 'support': 716}\n",
            "Média Ponderada (GRU Bidirecional): {'precision': 0.639669163545568, 'recall': 0.6396648044692738, 'f1-score': 0.6396619929308771, 'support': 716}\n"
          ]
        }
      ]
    },
    {
      "cell_type": "markdown",
      "source": [
        "# Faça o mesmo processamento utilizando LSTM Bi-direcionais"
      ],
      "metadata": {
        "id": "60AMjHkjtgcT"
      }
    },
    {
      "cell_type": "markdown",
      "source": [
        "Pelo menos duas camadas de LSTM Bi-direcionais"
      ],
      "metadata": {
        "id": "Jf2rnvXjtkTL"
      }
    },
    {
      "cell_type": "markdown",
      "source": [
        "# Faça o mesmo processamento utilizando redes recorrentes bi-direcionais e profundas"
      ],
      "metadata": {
        "id": "J2937LJzwMIc"
      }
    },
    {
      "cell_type": "markdown",
      "source": [
        "Pelo menos quatro camadas de GRU/LSTM bi-direcionais (ou não)"
      ],
      "metadata": {
        "id": "YjqWAB8btnDT"
      }
    },
    {
      "cell_type": "code",
      "source": [
        "# Definição do modelo com camadas LSTM bidirecionais\n",
        "model_lstm_bidirectional = Sequential([\n",
        "    Embedding(vocab_size, embedding_dim, input_length=max_length),\n",
        "    Bidirectional(LSTM(32, return_sequences=True)),\n",
        "    Bidirectional(LSTM(32)),\n",
        "    Dense(32, activation='relu'),\n",
        "    Dense(1, activation='sigmoid')\n",
        "])\n",
        "\n",
        "# Compilação do modelo\n",
        "model_lstm_bidirectional.compile(loss='binary_crossentropy', optimizer='adam', metrics=['accuracy'])\n",
        "model_lstm_bidirectional.summary()\n",
        "\n",
        "# Treinamento do modelo\n",
        "history_lstm_bidirectional = model_lstm_bidirectional.fit(X_train, y_train, epochs=5, validation_data=(X_val, y_val), verbose=2)\n",
        "\n",
        "# Avaliação do modelo nos dados de teste\n",
        "loss_lstm_bidirectional, accuracy_lstm_bidirectional = model_lstm_bidirectional.evaluate(padded_sequences_test, y_test, verbose=2)\n",
        "print(f\"Perda nos dados de teste (LSTM Bidirecional): {loss_lstm_bidirectional:.4f}\")\n",
        "print(f\"Acurácia nos dados de teste (LSTM Bidirecional): {accuracy_lstm_bidirectional:.4f}\")\n",
        "\n",
        "# Fazendo previsões no conjunto de teste\n",
        "y_pred_lstm_bidirectional = (model_lstm_bidirectional.predict(padded_sequences_test) > 0.5).astype(int)\n",
        "\n",
        "# Gerando o relatório de classificação\n",
        "report_lstm_bidirectional = classification_report(y_test, y_pred_lstm_bidirectional, target_names=encoder.classes_, output_dict=True)\n",
        "print(\"Relatório de Classificação (LSTM Bidirecional):\")\n",
        "for label, metrics in report_lstm_bidirectional.items():\n",
        "    if label == 'accuracy':\n",
        "        continue\n",
        "    print(f\"Classe: {label}\")\n",
        "    print(f\"\\tPrecisão: {metrics['precision']}\")\n",
        "    print(f\"\\tRecall: {metrics['recall']}\")\n",
        "    print(f\"\\tF1-score: {metrics['f1-score']}\")\n",
        "print(f\"Média Macro (LSTM Bidirecional): {report_lstm_bidirectional['macro avg']}\")\n",
        "print(f\"Média Ponderada (LSTM Bidirecional): {report_lstm_bidirectional['weighted avg']}\")\n"
      ],
      "metadata": {
        "id": "PQFUMJnrwQo0",
        "colab": {
          "base_uri": "https://localhost:8080/"
        },
        "outputId": "5f92899b-19e3-4347-9ff2-6b0996f4b902"
      },
      "execution_count": 25,
      "outputs": [
        {
          "output_type": "stream",
          "name": "stdout",
          "text": [
            "Model: \"sequential_4\"\n",
            "_________________________________________________________________\n",
            " Layer (type)                Output Shape              Param #   \n",
            "=================================================================\n",
            " embedding_4 (Embedding)     (None, 280, 16)           1600000   \n",
            "                                                                 \n",
            " bidirectional_2 (Bidirecti  (None, 280, 64)           12544     \n",
            " onal)                                                           \n",
            "                                                                 \n",
            " bidirectional_3 (Bidirecti  (None, 64)                24832     \n",
            " onal)                                                           \n",
            "                                                                 \n",
            " dense_8 (Dense)             (None, 32)                2080      \n",
            "                                                                 \n",
            " dense_9 (Dense)             (None, 1)                 33        \n",
            "                                                                 \n",
            "=================================================================\n",
            "Total params: 1639489 (6.25 MB)\n",
            "Trainable params: 1639489 (6.25 MB)\n",
            "Non-trainable params: 0 (0.00 Byte)\n",
            "_________________________________________________________________\n",
            "Epoch 1/5\n",
            "72/72 - 17s - loss: 0.6866 - accuracy: 0.5428 - val_loss: 0.6516 - val_accuracy: 0.6206 - 17s/epoch - 232ms/step\n",
            "Epoch 2/5\n",
            "72/72 - 5s - loss: 0.4895 - accuracy: 0.7649 - val_loss: 0.7447 - val_accuracy: 0.6573 - 5s/epoch - 68ms/step\n",
            "Epoch 3/5\n",
            "72/72 - 8s - loss: 0.2213 - accuracy: 0.9183 - val_loss: 0.9091 - val_accuracy: 0.6416 - 8s/epoch - 118ms/step\n",
            "Epoch 4/5\n",
            "72/72 - 6s - loss: 0.0999 - accuracy: 0.9694 - val_loss: 1.0722 - val_accuracy: 0.6276 - 6s/epoch - 90ms/step\n",
            "Epoch 5/5\n",
            "72/72 - 4s - loss: 0.0413 - accuracy: 0.9891 - val_loss: 1.4472 - val_accuracy: 0.6381 - 4s/epoch - 62ms/step\n",
            "23/23 - 0s - loss: 1.4060 - accuracy: 0.6411 - 480ms/epoch - 21ms/step\n",
            "Perda nos dados de teste (LSTM Bidirecional): 1.4060\n",
            "Acurácia nos dados de teste (LSTM Bidirecional): 0.6411\n",
            "23/23 [==============================] - 2s 15ms/step\n",
            "Relatório de Classificação (LSTM Bidirecional):\n",
            "Classe: 0\n",
            "\tPrecisão: 0.6406685236768802\n",
            "\tRecall: 0.6424581005586593\n",
            "\tF1-score: 0.6415620641562064\n",
            "Classe: 1\n",
            "\tPrecisão: 0.6414565826330533\n",
            "\tRecall: 0.6396648044692738\n",
            "\tF1-score: 0.6405594405594406\n",
            "Classe: macro avg\n",
            "\tPrecisão: 0.6410625531549667\n",
            "\tRecall: 0.6410614525139665\n",
            "\tF1-score: 0.6410607523578236\n",
            "Classe: weighted avg\n",
            "\tPrecisão: 0.6410625531549669\n",
            "\tRecall: 0.6410614525139665\n",
            "\tF1-score: 0.6410607523578236\n",
            "Média Macro (LSTM Bidirecional): {'precision': 0.6410625531549667, 'recall': 0.6410614525139665, 'f1-score': 0.6410607523578236, 'support': 716}\n",
            "Média Ponderada (LSTM Bidirecional): {'precision': 0.6410625531549669, 'recall': 0.6410614525139665, 'f1-score': 0.6410607523578236, 'support': 716}\n"
          ]
        }
      ]
    },
    {
      "cell_type": "markdown",
      "source": [
        "# *ToDo*: O que você pode analisar dos modelos treinados?"
      ],
      "metadata": {
        "id": "TL8OXiSnwTSJ"
      }
    },
    {
      "cell_type": "markdown",
      "source": [
        "```\n",
        "# Análise comparativa de desempenho:\n",
        "\n",
        "Desempenho geral:\n",
        "\n",
        "A acurácia varia de cerca de 0.50 a 0.64 nos diferentes modelos, o que indica que eles têm um desempenho moderado na tarefa de classificação.\n",
        "A perda nos dados de teste varia de aproximadamente 0.69 a 1.41, sendo mais baixa nos modelos que utilizam camadas GRU e LSTM e mais alta nos modelos bidirecionais.\n",
        "\n",
        "Comportamento das métricas de classificação:\n",
        "\n",
        "Em geral, vemos pelas métricas de precisão, recall e F1-score que cada classe têm desempenho razoável, com F1-scores em torno de 0.64 na maioria dos casos.\n",
        "As métricas de média macro e média ponderada também mostram desempenhos similares entre os modelos, com valores em torno de 0.64.\n",
        "\n",
        "\n",
        "# Análise aprofundada:\n",
        "Considerando os diferentes aspectos das arquiteturas dos modelos e como eles se relacionam com a natureza da tarefa em questão.\n",
        "\n",
        "Arquitetura dos modelos:\n",
        "\n",
        "*   GRU (Gated Recurrent Unit): Variantes de RNNs que abordam o problema do desaparecimento do gradiente, com menos parâmetros do que LSTMs, resultando em treinamento mais rápido, embora possam não capturar dependências de longo prazo tão eficazmente.\n",
        "*   LSTM (Long Short-Term Memory): Projetadas para capturar dependências de longo prazo em sequências, superando o problema do desaparecimento do gradiente em RNNs tradicionais, possuindo mais parâmetros que GRUs, podendo ser mais suscetíveis ao sobreajuste.\n",
        "*   Bidirecional: Processam sequências em ambas as direções, combinando informações contextuais de frente e trás, úteis para capturar contexto global, mas requerem mais recursos computacionais.\n",
        "\n",
        "Complexidade do modelo:\n",
        "\n",
        "Apesar de mais complexos, os modelos bidirecionais e os que usam duas camadas de LSTM ou GRU não traduziram essa maior quantidade de parâmetros em melhores resultados, como observado.\n",
        "\n",
        "Desempenho relativo dos modelos:\n",
        "\n",
        "*   Os modelos GRU e LSTM apresentaram desempenhos semelhantes em termos de acurácia e métricas de classificação. Isso sugere que, para o conjunto de dados e a tarefa em questão, as diferenças nas capacidades de captura de dependências temporais de longo prazo entre GRU e LSTM podem não ter um impacto significativo no desempenho final. Isso se deve a:\n",
        "1.   Brevidade do treinamento: O treinamento foi relativamente breve, portanto os modelos podem não ter tido tempo suficiente para aprender as nuances mais sutis dos dados. Isso pode ter limitado a capacidade dos modelos de aproveitar ao máximo as diferenças entre GRU e LSTM.\n",
        "2.   Tamanho do conjunto de dados: O conjunto de dados utilizado para treinamento foi relativamente pequeno (5,668 tweets), os modelos podem não ter sido capazes de explorar totalmente as capacidades das arquiteturas mais complexas, como LSTMs. Modelos mais simples, como GRUs, podem ter sido mais eficientes em aprender representações úteis com menos dados.\n",
        "3.   Complexidade da tarefa: Considerando, no contexto de *tweets*, que a classificação de sentimentos se baseou-se mais em palavras ou frases individuais do que em contextos mais amplos, não exigindo tanto de dependências temporais de longo prazo, então as diferenças entre GRU e LSTM podem não ter tido um impacto significativo no desempenho.\n",
        "\n",
        "*  Os modelos bidirecionais mostraram desempenhos semelhantes em termos de acurácia geral, mas as métricas de precisão, recall e F1-score para cada classe variaram. Comparando os resultados dos modelos LSTM unidirecionais com os bidirecionais, observou-se que estes últimos tendem a apresentar métricas ligeiramente melhores em termos de precisão, recall e F1-score para ambas as classes. O mesmo padrão foi observado ao comparar os resultados dos modelos GRU unidirecionais com os bidirecionais, embora as diferenças não fossem tão proeminentes quanto no caso dos LSTMs. Isso sugere que a capacidade dos modelos bidirecionais de capturar informações contextuais de ambas as direções da sequência pode proporcionar benefícios adicionais na discriminação entre as classes.\n",
        "\n",
        "\n",
        "```"
      ],
      "metadata": {
        "id": "OOLY1EgdwWmX"
      }
    },
    {
      "cell_type": "code",
      "source": [],
      "metadata": {
        "id": "IiCejbUjF-wO"
      },
      "execution_count": null,
      "outputs": []
    }
  ]
}